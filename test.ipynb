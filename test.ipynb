{
 "cells": [
  {
   "cell_type": "code",
   "execution_count": 1,
   "metadata": {},
   "outputs": [
    {
     "name": "stderr",
     "output_type": "stream",
     "text": [
      "Using 16bit Automatic Mixed Precision (AMP)\n",
      "GPU available: True (cuda), used: True\n",
      "TPU available: False, using: 0 TPU cores\n",
      "IPU available: False, using: 0 IPUs\n",
      "HPU available: False, using: 0 HPUs\n",
      "Using 16bit Automatic Mixed Precision (AMP)\n",
      "GPU available: True (cuda), used: True\n",
      "TPU available: False, using: 0 TPU cores\n",
      "IPU available: False, using: 0 IPUs\n",
      "HPU available: False, using: 0 HPUs\n",
      "Missing logger folder: /workspaces/jjh-gpu1-temp/IDSL/pytorch_SEFS/logs/baseline/beta-0.05/l1_coef-0.0001/ss_epochs-1000/seed-1/label_size--10\n",
      "2024-02-09 14:17:26.054571: I tensorflow/core/util/port.cc:111] oneDNN custom operations are on. You may see slightly different numerical results due to floating-point round-off errors from different computation orders. To turn them off, set the environment variable `TF_ENABLE_ONEDNN_OPTS=0`.\n",
      "2024-02-09 14:17:26.083155: E tensorflow/compiler/xla/stream_executor/cuda/cuda_dnn.cc:9342] Unable to register cuDNN factory: Attempting to register factory for plugin cuDNN when one has already been registered\n",
      "2024-02-09 14:17:26.083187: E tensorflow/compiler/xla/stream_executor/cuda/cuda_fft.cc:609] Unable to register cuFFT factory: Attempting to register factory for plugin cuFFT when one has already been registered\n",
      "2024-02-09 14:17:26.083209: E tensorflow/compiler/xla/stream_executor/cuda/cuda_blas.cc:1518] Unable to register cuBLAS factory: Attempting to register factory for plugin cuBLAS when one has already been registered\n",
      "2024-02-09 14:17:26.088919: I tensorflow/core/platform/cpu_feature_guard.cc:182] This TensorFlow binary is optimized to use available CPU instructions in performance-critical operations.\n",
      "To enable the following instructions: AVX2 AVX512F AVX512_VNNI AVX512_BF16 AVX_VNNI AMX_TILE AMX_INT8 AMX_BF16 FMA, in other operations, rebuild TensorFlow with the appropriate compiler flags.\n",
      "2024-02-09 14:17:26.638127: W tensorflow/compiler/tf2tensorrt/utils/py_utils.cc:38] TF-TRT Warning: Could not find TensorRT\n",
      "LOCAL_RANK: 0 - CUDA_VISIBLE_DEVICES: [0]\n",
      "\n",
      "  | Name  | Type          | Params\n",
      "----------------------------------------\n",
      "0 | model | SEFS_SS_Phase | 34.2 K\n",
      "----------------------------------------\n",
      "34.2 K    Trainable params\n",
      "0         Non-trainable params\n",
      "34.2 K    Total params\n",
      "0.137     Total estimated model params size (MB)\n"
     ]
    },
    {
     "name": "stdout",
     "output_type": "stream",
     "text": [
      "Sanity Checking DataLoader 0:   0%|          | 0/1 [00:00<?, ?it/s]"
     ]
    },
    {
     "name": "stderr",
     "output_type": "stream",
     "text": [
      "/workspaces/jjh-gpu1-temp/IDSL/NSFMR/.venv/lib/python3.10/site-packages/lightning/pytorch/trainer/connectors/data_connector.py:442: PossibleUserWarning: The dataloader, val_dataloader, does not have many workers which may be a bottleneck. Consider increasing the value of the `num_workers` argument` (try 40 which is the number of cpus on this machine) in the `DataLoader` init to improve performance.\n",
      "  rank_zero_warn(\n"
     ]
    },
    {
     "name": "stdout",
     "output_type": "stream",
     "text": [
      "                                                                           "
     ]
    },
    {
     "name": "stderr",
     "output_type": "stream",
     "text": [
      "/workspaces/jjh-gpu1-temp/IDSL/NSFMR/.venv/lib/python3.10/site-packages/lightning/pytorch/trainer/connectors/data_connector.py:442: PossibleUserWarning: The dataloader, train_dataloader, does not have many workers which may be a bottleneck. Consider increasing the value of the `num_workers` argument` (try 40 which is the number of cpus on this machine) in the `DataLoader` init to improve performance.\n",
      "  rank_zero_warn(\n",
      "/workspaces/jjh-gpu1-temp/IDSL/NSFMR/.venv/lib/python3.10/site-packages/lightning/pytorch/loops/fit_loop.py:281: PossibleUserWarning: The number of training batches (1) is smaller than the logging interval Trainer(log_every_n_steps=50). Set a lower value for log_every_n_steps if you want to see logs for the training epoch.\n",
      "  rank_zero_warn(\n"
     ]
    },
    {
     "name": "stdout",
     "output_type": "stream",
     "text": [
      "Epoch 999: 100%|██████████| 1/1 [00:00<00:00, 28.23it/s, v_num=0, self-supervision/train_x=0.100, self-supervision/train_m=6.930, self-supervision/train_total=69.50, self-supervision/val_x=0.100, self-supervision/val_m=6.930, self-supervision/val_total=69.50] "
     ]
    },
    {
     "name": "stderr",
     "output_type": "stream",
     "text": [
      "`Trainer.fit` stopped: `max_epochs=1000` reached.\n"
     ]
    },
    {
     "name": "stdout",
     "output_type": "stream",
     "text": [
      "Epoch 999: 100%|██████████| 1/1 [00:00<00:00, 27.35it/s, v_num=0, self-supervision/train_x=0.100, self-supervision/train_m=6.930, self-supervision/train_total=69.50, self-supervision/val_x=0.100, self-supervision/val_m=6.930, self-supervision/val_total=69.50]\n"
     ]
    },
    {
     "name": "stderr",
     "output_type": "stream",
     "text": [
      "LOCAL_RANK: 0 - CUDA_VISIBLE_DEVICES: [0]\n",
      "\n",
      "  | Name  | Type         | Params\n",
      "---------------------------------------\n",
      "0 | model | SEFS_S_Phase | 31.8 K\n",
      "---------------------------------------\n",
      "31.8 K    Trainable params\n",
      "0         Non-trainable params\n",
      "31.8 K    Total params\n",
      "0.127     Total estimated model params size (MB)\n"
     ]
    },
    {
     "name": "stdout",
     "output_type": "stream",
     "text": [
      "Epoch 999: 100%|██████████| 1/1 [00:00<00:00, 43.30it/s, v_num=1, supervision/train_total=0.0512, supervision/train_y=0.0264, supervision/val_total=0.0421, supervision/val_y=0.0172]   "
     ]
    },
    {
     "name": "stderr",
     "output_type": "stream",
     "text": [
      "`Trainer.fit` stopped: `max_epochs=1000` reached.\n"
     ]
    },
    {
     "name": "stdout",
     "output_type": "stream",
     "text": [
      "Epoch 999: 100%|██████████| 1/1 [00:00<00:00, 41.33it/s, v_num=1, supervision/train_total=0.0512, supervision/train_y=0.0264, supervision/val_total=0.0421, supervision/val_y=0.0172]\n"
     ]
    },
    {
     "data": {
      "text/plain": [
       "<BarContainer object of 100 artists>"
      ]
     },
     "execution_count": 1,
     "metadata": {},
     "output_type": "execute_result"
    },
    {
     "data": {
      "image/png": "[encoded data removed]",
      "text/plain": [
       "<Figure size 1000x1000 with 1 Axes>"
      ]
     },
     "metadata": {},
     "output_type": "display_data"
    }
   ],
   "source": [
    "import argparse\n",
    "from datetime import datetime\n",
    "import numpy as np\n",
    "from src.data.synthetic_data import SyntheticData\n",
    "from src.data.data_wrapper import DataWrapper\n",
    "from src.SEFS import SEFS\n",
    "from src.models_common import ACTIVATION_TABLE\n",
    "from src.supervision.model import SEFS_S_Phase\n",
    "from matplotlib import pyplot as plt\n",
    "def parse_args():\n",
    "    parser = argparse.ArgumentParser()\n",
    "\n",
    "\n",
    "\n",
    "    # model params\n",
    "    parser.add_argument(\"--prob_type\", type=str, default=\"twomoon\", choices=[\"twomoon\", \"opls\",\"deeppink\"],)\n",
    "    parser.add_argument(\"--seed\",type=int,default=1)\n",
    "    # data size\n",
    "    parser.add_argument(\"--label_size\", type=int, default=10, help=\"size of labeled data\")\n",
    "    parser.add_argument(\"--noise\", type=int, default=0.1, help=\"size of labeled data\")\n",
    "    parser.add_argument(\"--unlabel_size\", type=int, default=1000, help=\"size of unlabeled data\")\n",
    "\n",
    "\n",
    "    parser.add_argument(\"--z_dim\", type=int, default=10, help=\"dimension of latent variable\")\n",
    "\n",
    "    parser.add_argument(\"--h_dim_e\", type=int, default=100, help=\"dimension of hidden layers in encoder\")\n",
    "    parser.add_argument(\"--num_layers_e\", type=int, default=3, help=\"number of hidden layers in encoder\")\n",
    "\n",
    "    parser.add_argument(\"--h_dim_d\", type=int, default=10, help=\"dimension of hidden layers in decoder\")\n",
    "    parser.add_argument(\"--num_layers_d\", type=int, default=3, help=\"number of hidden layers in decoder\")\n",
    "\n",
    "    parser.add_argument(\"--dropout\", type=float, default=0.0, help=\"dropout rate\")\n",
    "    parser.add_argument(\"--fc_activate_fn\", type=str, default=\"relu\", choices=list(ACTIVATION_TABLE.keys()),\n",
    "                        help=\"activation function in fully connected layers\")\n",
    "\n",
    "    # trainer params\n",
    "    parser.add_argument(\"--alpha\", type=float, default=10, help=\"regularization coefficient for m in self-supervision phase\")\n",
    "    parser.add_argument(\"--beta\", type=float, default=0.05, help=\"regularization coefficient for pi in supervision phase\")\n",
    "    parser.add_argument(\"--l1_coef\", type=float, default=0.0001, help=\"regularization coefficient for l1 norm of weights\")\n",
    "    parser.add_argument(\"--lr\", type=float, default=1e-4, help=\"learning rate\")\n",
    "    parser.add_argument(\"--weight_decay\", type=float, default=1e-5, help=\"weight decay\")\n",
    "\n",
    "    # lightning params\n",
    "    parser.add_argument(\"--ss_epochs\", type=int, default=1000, help=\"trainin epochs for self-supervision phase\")\n",
    "    parser.add_argument(\"--s_epochs\", type=int, default=1000, help=\"trainin epochs for supervision phase\")\n",
    "\n",
    "    parser.add_argument(\"--ss_batch_size\", type=int, default=1024, help=\"batch size for self-supervision phase\")\n",
    "    parser.add_argument(\"--s_batch_size\", type=int, default=32, help=\"batch size for supervision phase\")\n",
    "    parser.add_argument(\"--gradient_clip_val\", type=float, default=1.0, help=\"gradient clip value in l2 norm\")\n",
    "\n",
    "    return parser.parse_args(\"\")\n",
    "\n",
    "\n",
    "def get_log_dir(args):\n",
    "    #\n",
    "    # Do some jobs here with args to create a experiment name with the given arguments.\n",
    "    # Deafult is set to return \"test\"\n",
    "    # cur_time = datetime.now().strftime(\"%Y%m%d-%H%M%S\")\n",
    "    # exp_name = f'test_{cur_time}'\n",
    "    \n",
    "    exp_name = f\"baseline/beta-{args.beta}/l1_coef-{args.l1_coef}/ss_epochs-{args.ss_epochs}/seed-{args.seed}/label_size--{args.label_size}\"\n",
    "\n",
    "    return exp_name\n",
    "\n",
    "\n",
    "\n",
    "    #args.seed=seed\n",
    "args=parse_args()\n",
    "data = DataWrapper(SyntheticData(args.prob_type,200,40,1000,args.seed))\n",
    "val_data = DataWrapper(SyntheticData(args.prob_type,200,40,1000,456))\n",
    "\n",
    "\n",
    "# NOTE: if you want to change the default values of the parameters, you can do it here.\n",
    "# i.e., args.z_dim = 2**7\n",
    "\n",
    "model_params = {\n",
    "        'x_dim': data.x_dim,\n",
    "        'z_dim': args.z_dim,\n",
    "        'h_dim_e': args.h_dim_e,\n",
    "        'num_layers_e': args.num_layers_e,\n",
    "\n",
    "        'h_dim_d': args.h_dim_d,\n",
    "        'num_layers_d': args.num_layers_d,\n",
    "\n",
    "        'dropout': args.dropout,\n",
    "        'fc_activate_fn': args.fc_activate_fn,\n",
    "}\n",
    "\n",
    "trainer_params = {\n",
    "        'alpha': args.alpha,\n",
    "        'beta': args.beta,\n",
    "        'l1_coef': args.l1_coef,\n",
    "        'optimizer_params': {\n",
    "            'lr':  args.lr,\n",
    "            'weight_decay': args.weight_decay,\n",
    "        },\n",
    "    }\n",
    "\n",
    "ss_lightning_params = {\n",
    "        'max_epochs': args.ss_epochs,\n",
    "        'precision': \"16-mixed\",\n",
    "        'gradient_clip_val': args.gradient_clip_val,\n",
    "        'batch_size': args.ss_batch_size,\n",
    "}\n",
    "\n",
    "s_lightning_params = {\n",
    "        'max_epochs': args.s_epochs,\n",
    "        'precision': \"16-mixed\",\n",
    "        'gradient_clip_val': args.gradient_clip_val,\n",
    "        'batch_size': args.s_batch_size,\n",
    "}\n",
    "\n",
    "sefs = SEFS(\n",
    "    train_data=data,\n",
    "    val_data=val_data,\n",
    "    selection_prob=np.array([0.5 for _ in range(data.x_dim)]),\n",
    "    model_params=model_params,\n",
    "    trainer_params=trainer_params,\n",
    "    ss_lightning_params=ss_lightning_params,\n",
    "    s_lightning_params=s_lightning_params,\n",
    "    exp_name=get_log_dir(args), # this is the name of the experiment.\n",
    "                                # you can change it to whatever you want using the function above.\n",
    "                                \n",
    "    early_stopping_patience=10000\n",
    ")\n",
    "\n",
    "sefs.train()\n",
    "feat_imp_idx =data.get_feature_importance()\n",
    "pi = sefs.supervision_phase.model.get_pi()\n",
    "pi = pi.detach().cpu().numpy()\n",
    "pi = pi.reshape(-1)\n",
    "#plt.bar(range(len(pi)),pi)\n",
    "color = ['r' if i in feat_imp_idx else 'b' for i in range(len(pi))]\n",
    "plt.bar(range(len(pi)),pi,color=color)\n",
    "    \n",
    "\n",
    "\n",
    "\n",
    "\n"
   ]
  }
 ],
 "metadata": {
  "kernelspec": {
   "display_name": ".venv",
   "language": "python",
   "name": "python3"
  },
  "language_info": {
   "codemirror_mode": {
    "name": "ipython",
    "version": 3
   },
   "file_extension": ".py",
   "mimetype": "text/x-python",
   "name": "python",
   "nbconvert_exporter": "python",
   "pygments_lexer": "ipython3",
   "version": "3.10.12"
  }
 },
 "nbformat": 4,
 "nbformat_minor": 2
}
